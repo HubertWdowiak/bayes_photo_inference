{
 "cells": [
  {
   "cell_type": "code",
   "execution_count": null,
   "metadata": {},
   "outputs": [],
   "source": [
    "import ML_Veterinray_Metrics_Func as vet\n",
    "import os\n",
    "import shutil"
   ]
  },
  {
   "cell_type": "code",
   "execution_count": null,
   "metadata": {},
   "outputs": [],
   "source": [
    "path_target = \"/home/data/data/kodeiri/ML_project/dogs datasets/Blind/\"\n",
    "path_src = \"/home/data/data/kodeiri/ML_project/dogs datasets/Sick_dogs/\"\n",
    "i=0\n",
    "for folder in (os.listdir(path_src)):\n",
    "    src1 = path_src  + folder\n",
    "    if folder == '.DS_Store':\n",
    "        os.remove(src1)\n",
    "        continue\n",
    "    for folder2 in (os.listdir(src1)):\n",
    "        src2 = src1 +'/'+ folder2\n",
    "        if folder2 == '.DS_Store':\n",
    "                os.remove(src2)\n",
    "                continue\n",
    "        for file in os.listdir(src2):\n",
    "            \n",
    "            src3 = src2 + '/' + file\n",
    "            if file == '.DS_Store':\n",
    "                os.remove(src3)\n",
    "                continue\n",
    "            dst = path_target  + file\n",
    "            print(src3)\n",
    "            print(dst)\n",
    "            shutil.copy (src3,dst)\n",
    "            i +=1\n",
    "            print(i)\n",
    "\n",
    "\n",
    "#vet.img_preprocess()"
   ]
  },
  {
   "cell_type": "code",
   "execution_count": null,
   "metadata": {},
   "outputs": [],
   "source": [
    "vet.img_preprocess(\"/home/data/data/kodeiri/ML_project/dogs datasets/Blind/\",\"/home/data/data/kodeiri/ML_project/dogs datasets/Blind_thrash/\")"
   ]
  },
  {
   "cell_type": "code",
   "execution_count": 3,
   "metadata": {},
   "outputs": [
    {
     "name": "stdout",
     "output_type": "stream",
     "text": [
      "Prediction: Adult\n",
      "Confidence: 0.99976605\n",
      "Ground_truth: Adult\n",
      "Prediction: Young\n",
      "Confidence: 0.92364097\n",
      "Ground_truth: Adult\n",
      "Prediction: Adult\n",
      "Confidence: 0.9785338\n",
      "Ground_truth: Adult\n",
      "Prediction: Adult\n",
      "Confidence: 0.47387835\n",
      "Ground_truth: Adult\n"
     ]
    },
    {
     "name": "stderr",
     "output_type": "stream",
     "text": [
      "Clipping input data to the valid range for imshow with RGB data ([0..1] for floats or [0..255] for integers).\n",
      "Clipping input data to the valid range for imshow with RGB data ([0..1] for floats or [0..255] for integers).\n",
      "Clipping input data to the valid range for imshow with RGB data ([0..1] for floats or [0..255] for integers).\n"
     ]
    },
    {
     "name": "stdout",
     "output_type": "stream",
     "text": [
      "Prediction: Adult\n",
      "Confidence: 0.992343\n",
      "Ground_truth: Adult\n"
     ]
    },
    {
     "data": {
      "image/png": "[encoded data removed]",
      "text/plain": [
       "<Figure size 1440x2160 with 3 Axes>"
      ]
     },
     "metadata": {
      "needs_background": "light"
     },
     "output_type": "display_data"
    },
    {
     "name": "stdout",
     "output_type": "stream",
     "text": [
      "4\n"
     ]
    }
   ],
   "source": [
    "hm,sm, mn, md = vet.predict_on_examples(\n",
    "    \"/home/data/data/kodeiri/ML_project/dogs datasets/Blind/\",\n",
    "    \"Adult\",\n",
    "    display_image=False,\n",
    "    display_heatmap=False,\n",
    "    display_template = True,\n",
    "    iteration_number = 0)"
   ]
  }
 ],
 "metadata": {
  "interpreter": {
   "hash": "fd29a1856f6ae0a6b1ff5c30d8a911920bc57064f70096439f4d93b631d26313"
  },
  "kernelspec": {
   "display_name": "Python 3.8.11 64-bit ('kodeiri': venv)",
   "language": "python",
   "name": "python3"
  },
  "language_info": {
   "codemirror_mode": {
    "name": "ipython",
    "version": 3
   },
   "file_extension": ".py",
   "mimetype": "text/x-python",
   "name": "python",
   "nbconvert_exporter": "python",
   "pygments_lexer": "ipython3",
   "version": "3.8.11"
  },
  "orig_nbformat": 4
 },
 "nbformat": 4,
 "nbformat_minor": 2
}
