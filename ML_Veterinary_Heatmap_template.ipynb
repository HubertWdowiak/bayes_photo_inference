{
 "cells": [
  {
   "cell_type": "code",
   "execution_count": 3,
   "metadata": {},
   "outputs": [],
   "source": [
    "# Install a pip package in the current Jupyter kernel\n",
    "\n",
    "import dlib, cv2, os\n",
    "from imutils import face_utils\n",
    "import numpy as np\n",
    "import matplotlib.pyplot as plt\n",
    "import tensorflow.keras.backend as K\n",
    "import tensorflow as tf\n",
    "import os\n",
    "from tensorflow.keras.preprocessing import image"
   ]
  },
  {
   "cell_type": "code",
   "execution_count": 4,
   "metadata": {},
   "outputs": [],
   "source": [
    "detector = dlib.cnn_face_detection_model_v1('/home/data/data/kodeiri/ML_project/dogHeadDetector.dat')\n",
    "predictor = dlib.shape_predictor('/home/data/data/kodeiri/ML_project/landmarkDetector.dat')"
   ]
  },
  {
   "cell_type": "code",
   "execution_count": null,
   "metadata": {},
   "outputs": [],
   "source": [
    "path='/home/data/data/kodeiri/ML_project/Test_aug_bufer/Adult/_5_6861445.png'"
   ]
  },
  {
   "cell_type": "code",
   "execution_count": 5,
   "metadata": {},
   "outputs": [],
   "source": [
    "# wyszukiwanie zdjęcia na białym tle\n",
    "def photo_white_background_detector(src_image):\n",
    "\n",
    "    img_in = cv2.cvtColor(src_image, cv2.COLOR_BGR2RGB)\n",
    "    # img = cv2.resize(img, dsize=None, fx=0.5, fy=0.5)\n",
    "    \n",
    "    gray = cv2.cvtColor(img_in, cv2.COLOR_BGR2GRAY)\n",
    "    height, width = gray.shape\n",
    "\n",
    "    ret, thresh = cv2.threshold(gray, 254, 255, 1)\n",
    "\n",
    "    # f, axarr = plt.subplots(1,3)\n",
    "\n",
    "    photo_width = np.count_nonzero(thresh == 255, axis=0).max()\n",
    "    photo_height = np.count_nonzero(thresh == 0, axis=1).min()\n",
    "\n",
    "    column, row, photo_width, photo_height = cv2.boundingRect(thresh)\n",
    "\n",
    "\n",
    "    return (column, row, photo_width, photo_height)\n",
    "\n",
    "# wycinanie zdjęcia z biełego tła oraz reskalowanie do 100x100\n",
    "def image_crop(src_image, cordinates, res=(100, 100)):\n",
    "\n",
    "    column, row, photo_width, photo_height = cordinates\n",
    "    result_image = src_image[row:row + photo_height, column: column + photo_width]\n",
    "    return cv2.resize(result_image, res)\n",
    "    # return img_in[]\n",
    "    # for rows in thresh:\n",
    "    \n",
    "    # img2, contours, hierarchy = cv2.findContours(thresh, 1, 2)\n",
    "    # plt.imshow(img2)\n",
    "    \n",
    "    # print(np.where(thresh == 255) )\n",
    " \n",
    "    # mask = 255 - mask\n",
    "\n",
    "    # mask = cv2.GaussianBlur(mask, (0,0), sigmaX=2, sigmaY=2, borderType = cv2.BORDER_DEFAULT)\n",
    "\n",
    "    # cnts = cv2.findContours(gray, cv2.RETR_EXTERNAL, cv2.CHAIN_APPROX_SIMPLE)[-2]\n",
    "    # cnt = sorted(cnts, key=cv2.contourArea)[-1]\n",
    "\n",
    "    # x,y,w,h = cv2.boundingRect(cnt)\n",
    "    # print(x, y, w, h)\n",
    "    # dst = img_in[y:y+h, x:x+w]\n",
    "\n",
    "    # result = img_in.copy()\n",
    "    # result = cv2.cvtColor(result, cv2.COLOR_BGR2BGRA)\n",
    "    # result[:, :, 3] = mask\n",
    "    # img_in[:,:,3] = mask\n",
    "    # plt.imshow(img_in)\n",
    "\n",
    "    # dets = detector(img_in, upsample_num_times=1)\n",
    "\n",
    "    # #print(dets)\n",
    "\n",
    "    # img_result = img_in.copy()\n",
    "\n",
    "    # for i, d in enumerate(dets):\n",
    "    #     print(\"Detection {}: Left: {} Top: {} Right: {} Bottom: {} Confidence: {}\".format(i, d.rect.left(), d.rect.top(), d.rect.right(), d.rect.bottom(), d.confidence))\n",
    "\n",
    "    #     ((x1, y1), (x2, y2)) = (d.rect.left(), d.rect.top()), (d.rect.right(), d.rect.bottom())\n",
    "    #     if y1 < 0:\n",
    "    #         y1 = 0\n",
    "    #     if x1 < 0:\n",
    "    #         x1 = 0\n",
    "    #     if x2 < 0:\n",
    "    #         x2 = 0\n",
    "    #     if y2 < 0:\n",
    "    #         y2 = 0 \n",
    "\n",
    "\n",
    "    # return ((x1, y1), (x2, y2))\n",
    "\n",
    "# znajdywanie featerów na pieskach, tutaj każde zdjęcie zostaje podane operacji wyrównania histogramu, poczym cechy zostają wyciagnięte\n",
    "def features_detector(src_image):\n",
    "\n",
    "    ycrvb_img = cv2.cvtColor(src_image, cv2.COLOR_BGR2YCrCb)\n",
    "    ycrvb_img[:, :, 0] = cv2.equalizeHist(ycrvb_img[:, :, 0])\n",
    "\n",
    "    yuv_img = cv2.cvtColor(src_image, cv2.COLOR_BGR2YUV)\n",
    "    yuv_img[:, :, 0] = cv2.equalizeHist(yuv_img[:, :, 0])\n",
    "\n",
    "    equlized_img1 = cv2.cvtColor(ycrvb_img, cv2.COLOR_YCrCb2BGR)\n",
    "    equlized_img2 = cv2.cvtColor(yuv_img, cv2.COLOR_YUV2BGR)\n",
    "\n",
    "    # f, axarr = plt.subplots(1,4)\n",
    "    # axarr[0].imshow(image)\n",
    "    # axarr[1].imshow(ycrvb_img)\n",
    "    # axarr[2].imshow(equlized_img1)\n",
    "    # axarr[3].imshow(equlized_img2)\n",
    "\n",
    "    dets = detector(equlized_img1, upsample_num_times=1)\n",
    "    # if len(dets):\n",
    "    if len(dets):\n",
    "        shape = predictor(equlized_img1, dets.pop().rect)\n",
    "        (forehead, right_ear, right_eye, nose, left_ear, left_eye) = face_utils.shape_to_np(shape)\n",
    "\n",
    "        return (forehead, right_ear, right_eye, nose, left_ear, left_eye)\n",
    "    else:\n",
    "        return []\n"
   ]
  },
  {
   "cell_type": "code",
   "execution_count": 6,
   "metadata": {},
   "outputs": [],
   "source": [
    "# obraca zdjęcie tak, że linia oczu jest horyzontalnie\n",
    "def img_rotate(src_image, face_features, res=(100, 100)):\n",
    "\n",
    "    (forehead, right_ear, (x2, y2), nose, left_ear, (x1, y1)) = face_features\n",
    "    \n",
    "    slope = (y2 - y1) / (x2 - x1)\n",
    "    rad = np.arctan2(y2 - y1, x2 - x1)\n",
    "    angle = np.rad2deg(rad)\n",
    "\n",
    "    cX = int(nose[0])\n",
    "    cY = int(nose[1])\n",
    "    rotationMatrix = cv2.getRotationMatrix2D((cX, cY), angle, 1.0)\n",
    "    rotatedImage = cv2.warpAffine(src_image, rotationMatrix, res)\n",
    "\n",
    "    # plt.imshow(rotatedImage)\n",
    "\n",
    "    return rotatedImage\n",
    "    \n",
    "def translate_image(src_image, translate_destination, feautres, feature_id=3, res=(100, 100)):\n",
    "    tX, tY = translate_destination\n",
    "    bX, bY = feautres[feature_id]\n",
    "\n",
    "    M = np.float32([[1, 0, tX - bX],[0, 1,  tY - bY]])\n",
    "\n",
    "    return_image = cv2.warpAffine(src_image, M, res)\n",
    "    return return_image\n",
    "\n",
    "def check_triangle_angles(face_features, max_angle = 70.0):\n",
    "    (forehead, right_ear, (x1, y1), (x2, y2), left_ear, (x3, y3)) = face_features\n",
    "\n",
    "    # calculate distance between dog eyes \n",
    "    a = np.sqrt((x1 - x3) ** 2 + (y1 - y3) ** 2)\n",
    "    # calculate distance between dog left eye and nose \n",
    "    b = np.sqrt((x2 - x3) ** 2 + (y2 - y3) ** 2)\n",
    "    # calculate distance between dog right eye and nose \n",
    "    c = np.sqrt((x1 - x2) ** 2 + (y1 - y2) ** 2)\n",
    "    \n",
    "    cos_a = (b ** 2 + c ** 2 - a ** 2) / (2 * b * c)\n",
    "    cos_b = (c ** 2 + a ** 2 - b ** 2) / (2 * a * c)\n",
    "    cos_c = (a ** 2 + b ** 2 - c ** 2) / (2 * a * b)\n",
    "\n",
    "    angle_a = np.rad2deg(np.arccos(cos_a))\n",
    "    angle_b = np.rad2deg(np.arccos(cos_b))\n",
    "    angle_c = np.rad2deg(np.arccos(cos_c))\n",
    "\n",
    "    # print(angle_a, angle_b, angle_c)\n",
    "    if angle_a < max_angle and angle_b < max_angle and angle_c < max_angle:\n",
    "        return True\n",
    "\n",
    "    return False\n",
    "    "
   ]
  },
  {
   "cell_type": "code",
   "execution_count": null,
   "metadata": {},
   "outputs": [],
   "source": [
    "test_image = cv2.imread(path)\n",
    "\n",
    "fig, ax = plt.subplots(1, 2)\n",
    "\n",
    "photo_cordinates = photo_white_background_detector(test_image)\n",
    "test_image = image_crop(test_image, photo_cordinates, (100, 100))\n",
    "plt.imshow(test_image)\n",
    "feautres = features_detector(test_image)\n",
    "test_image = img_rotate(test_image, feautres)\n",
    "feautres = features_detector(test_image)\n",
    "test_image = translate_image(test_image, (50, 50), feautres)\n",
    "feautres = features_detector(test_image)\n",
    "check_triangle_angles(feautres, 70.0)\n",
    "\n"
   ]
  },
  {
   "cell_type": "code",
   "execution_count": 7,
   "metadata": {},
   "outputs": [],
   "source": [
    "model_path = \"/home/data/data/kodeiri/ML_project/saved_model/my_model4\""
   ]
  },
  {
   "cell_type": "code",
   "execution_count": 8,
   "metadata": {},
   "outputs": [],
   "source": [
    "CATEGORIES = [\"Adult\", \"Senior\", \"Young\"]"
   ]
  },
  {
   "cell_type": "code",
   "execution_count": 20,
   "metadata": {},
   "outputs": [],
   "source": [
    "def gradCAM(path,res=100,iter_number=10):\n",
    "  \n",
    "  model = tf.keras.models.load_model(model_path)\n",
    "  iteration_number = iter_number\n",
    "  i=0\n",
    "  piclist=os.listdir(path)\n",
    "  hm_sum = np.zeros((100, 100, 3, 1))\n",
    "  for i in range(iteration_number):\n",
    "    img_path=path+piclist[i]\n",
    "    img = image.load_img(img_path, target_size=(res, res))\n",
    "    x = image.img_to_array(img)\n",
    "    x = np.expand_dims(x, axis=0)\n",
    "    x = x.astype(np.float32)\n",
    "    x/=255\n",
    "    conv_layer = model.get_layer(index=0)\n",
    "    heatmap_model = tf.keras.models.Model([model.inputs], [conv_layer.output, model.output])\n",
    "    with tf.GradientTape() as gtape:\n",
    "        conv_output, predictions = heatmap_model(x)\n",
    "        argmax=tf.argmax(predictions[0])\n",
    "        loss = predictions[:, argmax]\n",
    "        grads = gtape.gradient(loss, conv_output)\n",
    "        pooled_grads = K.mean(grads, axis=(0,1,2))\n",
    "\n",
    "    heatmap = tf.reduce_mean(tf.multiply(pooled_grads, conv_output), axis=-1)\n",
    "    heatmap = np.maximum(heatmap, 0)\n",
    "    max_heat = np.max(heatmap)\n",
    "    if max_heat == 0:\n",
    "        max_heat = 1e-10\n",
    "    heatmap /= max_heat\n",
    "    img = cv2.imread(img_path)\n",
    "    heatmap = heatmap.squeeze()\n",
    "    \n",
    "    heatmap = cv2.resize(heatmap, (res, res))\n",
    "    heatmap = cv2.applyColorMap(np.uint8(255*heatmap), cv2.COLORMAP_HOT)\n",
    "    # wycinanie zdjęcia, znajdowanie featuró i obracanie zdjęć tak akby linia oczu była prosta\n",
    "    # photo_cordinates = photo_detector(img)\n",
    "    # img = image_crop(img, photo_cordinates, res=(res, res))\n",
    "    # heatmap = image_crop(heatmap, photo_cordinates, res=(res, res))\n",
    "    features = features_detector(img)\n",
    "    if len(features):\n",
    "      img = img_rotate(img, features, res=(res, res))\n",
    "      heatmap = img_rotate(heatmap, features, res=(res, res))\n",
    "\n",
    "    # wykrywanie featerów oraz translacja zdjęcia, tak aby nos znadował się w pozycji 50x50\n",
    "    features = features_detector(img)\n",
    "    if len(features):\n",
    "      img = translate_image(img, (50, 50), features, res=(res, res))\n",
    "      heatmap = translate_image(heatmap, (50, 50), features, res=(res, res))\n",
    "\n",
    "    # sprawdzenie czy znaki charakterystyczne pyska psa spełniają odpowiednie założenie - kąt maskymalny nie mozę przekraczać konkretnej wartosći\n",
    "    features = features_detector(img)\n",
    "    if len(features) and check_triangle_angles(features, max_angle = 70.0):\n",
    "      # hm_sum[:, :, :, i] = heatmap\n",
    "      hm_sum = np.append(hm_sum, heatmap.reshape((100, 100, 3, 1)), axis=3)\n",
    "    # elif check_triangle_angles(feautres, max_angle=70.0):\n",
    "      # hm_sum = hm_sum + heatmap\n",
    "\n",
    "      # heatmap = translate_image(heatmap, (50, 50), features)\n",
    "    # img = cv2.resize(img, (res, res))\n",
    "    # heatmap = cv2.resize(heatmap,(res,res))\n",
    "    # img = heatmap * intensity + img     ## nakładam HM na obrazek, biorę tylko piksele z kwadratu, który wykrył face detector\n",
    "    # img = cv2.cvtColor(img.astype('float32'), cv2.COLOR_BGR2RGB)\n",
    "    # img = img/np.amax(img)\n",
    "    # plt.imshow(img)\n",
    "    # plt.show()\n",
    "      \n",
    "    # except:\n",
    "    #   photo_cordinatesg = photo_detector(img)\n",
    "    #   img = image_crop(img, photo_cordinates)\n",
    "    #   img = cv2.resize(img, (res, res))\n",
    "      # img = heatmap * intensity + img\n",
    "\n",
    "      # print (\"Cannot detect dog face. Skipping image display. \")\n",
    "    # print(hm_sum)\n",
    "  # hm_sum = np.median(hm_sum, axis=3)\n",
    "  # hm_sum = hm_sum.mean(axis=3)\n",
    "\n",
    "  hm_sum_disp = hm_sum.sum(axis=3)\n",
    "  hm_mean = hm_sum.mean(axis=3)\n",
    "  hm_median = np.median((hm_sum - hm_sum.mean()) / hm_sum.std() , axis=3)\n",
    "  fig, ax = plt.subplots(1, 3, figsize=(20, 30))\n",
    "  ax[0].matshow(hm_sum_disp)\n",
    "  ax[0].title.set_text('heatmaps sum')\n",
    "  ax[1].matshow(hm_mean)\n",
    "  ax[1].title.set_text('heatmaps mean')\n",
    "  ax[2].matshow(hm_median)\n",
    "  ax[2].title.set_text('heatmaps median')\n",
    "  plt.show()\n",
    "  return hm_sum, hm_sum_disp, hm_mean, hm_median\n",
    "      "
   ]
  },
  {
   "cell_type": "code",
   "execution_count": 18,
   "metadata": {},
   "outputs": [],
   "source": [
    "path1 = \"/home/data/data/kodeiri/ML_project/FaceDetector_cropped/Mix_no_yolo/Adult/\""
   ]
  },
  {
   "cell_type": "code",
   "execution_count": 15,
   "metadata": {},
   "outputs": [],
   "source": [
    "path2 = '/home/data/data/kodeiri/ML_project/FaceDetector_cropped/Mix_no_yolo/Young/'"
   ]
  },
  {
   "cell_type": "code",
   "execution_count": 16,
   "metadata": {},
   "outputs": [],
   "source": [
    "path3 = '/home/data/data/kodeiri/ML_project/FaceDetector_cropped/Mix_no_yolo/Senior/'"
   ]
  },
  {
   "cell_type": "code",
   "execution_count": 22,
   "metadata": {},
   "outputs": [
    {
     "name": "stderr",
     "output_type": "stream",
     "text": [
      "Clipping input data to the valid range for imshow with RGB data ([0..1] for floats or [0..255] for integers).\n",
      "Clipping input data to the valid range for imshow with RGB data ([0..1] for floats or [0..255] for integers).\n",
      "Clipping input data to the valid range for imshow with RGB data ([0..1] for floats or [0..255] for integers).\n"
     ]
    },
    {
     "data": {
      "image/png": "[encoded data removed]",
      "text/plain": [
       "<Figure size 1440x2160 with 3 Axes>"
      ]
     },
     "metadata": {
      "needs_background": "light"
     },
     "output_type": "display_data"
    }
   ],
   "source": [
    "s,sd,m,med = gradCAM(path1,iter_number=10000)"
   ]
  },
  {
   "cell_type": "code",
   "execution_count": null,
   "metadata": {},
   "outputs": [],
   "source": [
    "Young = gradCAM(path2,'Young')"
   ]
  },
  {
   "cell_type": "code",
   "execution_count": null,
   "metadata": {},
   "outputs": [],
   "source": [
    "Senior = gradCAM(path3,'Senior')"
   ]
  },
  {
   "cell_type": "code",
   "execution_count": null,
   "metadata": {},
   "outputs": [],
   "source": [
    "# Hm_sum = Adult + Young + Senior\n",
    "# Hm_sum = np.array([Adult, Young, Senior])\n",
    "# plt.matshow(Hm_sum)\n",
    "# plt.show()\n",
    "Hm_matrix = np.array([Young, Adult, Senior])\n",
    "fig, ax = plt.subplots(1, 3, figsize=(20, 30))\n",
    "ax[0].matshow(Hm_matrix.sum(axis=0))\n",
    "ax[0].title.set_text('heatmaps sum')\n",
    "ax[1].matshow(Hm_matrix.mean(axis=0))\n",
    "ax[1].title.set_text('heatmaps mean')\n",
    "#hm_median = np.median((hm_sum - hm_sum.min()) / (hm_sum.max() - hm_sum.min()) , axis=3)\n",
    "Hm_median = np.median((Hm_matrix - Hm_matrix.mean()) / Hm_matrix.std() , axis=0)\n",
    "ax[2].matshow(Hm_median)\n",
    "ax[2].title.set_text('heatmaps median')\n",
    "fig, ax = plt.subplots(12, 6)\n",
    "ax1 = plt.subplot(2, 3, 1)\n",
    "ax2 = plt.subplot(2, 3, 2)\n",
    "ax3 = plt.subplot(2, 3, 3)\n",
    "ax4 = plt.subplot(2, 1, 2)\n",
    "# axes = [ax1, ax2, ax3, ax4]\n"
   ]
  },
  {
   "cell_type": "code",
   "execution_count": null,
   "metadata": {},
   "outputs": [],
   "source": [
    "def Hm_saver(heatmap,ground_truth):\n",
    "    arr_reshaped = heatmap.reshape(heatmap.shape[0], -1)\n",
    "    np.savetxt('/home/data/data/kodeiri/ML_project/HM/'+ ground_truth + \".txt\", arr_reshaped)"
   ]
  },
  {
   "cell_type": "code",
   "execution_count": null,
   "metadata": {},
   "outputs": [],
   "source": [
    "Hm_saver(Adult,'Adult')"
   ]
  },
  {
   "cell_type": "code",
   "execution_count": null,
   "metadata": {},
   "outputs": [],
   "source": [
    "Hm_saver(Young,'Young')"
   ]
  },
  {
   "cell_type": "code",
   "execution_count": null,
   "metadata": {},
   "outputs": [],
   "source": [
    "Hm_saver(Senior,'Senior')"
   ]
  },
  {
   "cell_type": "code",
   "execution_count": null,
   "metadata": {},
   "outputs": [],
   "source": [
    "Hm_saver(Hm_median,'All_median')"
   ]
  },
  {
   "cell_type": "code",
   "execution_count": null,
   "metadata": {},
   "outputs": [],
   "source": [
    "Hm_saver(Hm_matrix.mean(axis=0),'All_mean')"
   ]
  }
 ],
 "metadata": {
  "interpreter": {
   "hash": "fd29a1856f6ae0a6b1ff5c30d8a911920bc57064f70096439f4d93b631d26313"
  },
  "kernelspec": {
   "display_name": "Python 3.8.11 64-bit ('kodeiri': venv)",
   "name": "python3"
  },
  "language_info": {
   "codemirror_mode": {
    "name": "ipython",
    "version": 3
   },
   "file_extension": ".py",
   "mimetype": "text/x-python",
   "name": "python",
   "nbconvert_exporter": "python",
   "pygments_lexer": "ipython3",
   "version": "3.8.11"
  },
  "orig_nbformat": 4
 },
 "nbformat": 4,
 "nbformat_minor": 2
}
